{
  "metadata": {
    "kernelspec": {
      "display_name": "Python 3",
      "name": "python3"
    },
    "language_info": {
      "name": "python",
      "version": "3.10.12",
      "mimetype": "text/x-python",
      "codemirror_mode": {
        "name": "ipython",
        "version": 3
      },
      "pygments_lexer": "ipython3",
      "nbconvert_exporter": "python",
      "file_extension": ".py"
    },
    "kaggle": {
      "accelerator": "none",
      "dataSources": [],
      "dockerImageVersionId": 30587,
      "isInternetEnabled": true,
      "language": "python",
      "sourceType": "notebook",
      "isGpuEnabled": false
    },
    "colab": {
      "provenance": [],
      "gpuType": "T4"
    },
    "accelerator": "GPU"
  },
  "nbformat_minor": 0,
  "nbformat": 4,
  "cells": [
    {
      "cell_type": "code",
      "source": [
        "import numpy as np\n",
        "import pandas as pd\n",
        "\n",
        "import seaborn as sns\n",
        "import matplotlib.pyplot as plt\n",
        "\n",
        "from sklearn.metrics import confusion_matrix , classification_report\n",
        "\n",
        "import tensorflow as tf\n",
        "import tensorflow.keras.layers as tfl\n",
        "import tensorflow.keras.models as tfm\n",
        "from tensorflow.keras.applications.resnet50 import ResNet50\n"
      ],
      "metadata": {
        "_uuid": "8f2839f25d086af736a60e9eeb907d3b93b6e0e5",
        "_cell_guid": "b1076dfc-b9ad-4769-8c92-a6c4dae69d19",
        "execution": {
          "iopub.status.busy": "2023-11-29T23:01:49.733895Z",
          "iopub.execute_input": "2023-11-29T23:01:49.734371Z",
          "iopub.status.idle": "2023-11-29T23:01:49.741645Z",
          "shell.execute_reply.started": "2023-11-29T23:01:49.734336Z",
          "shell.execute_reply": "2023-11-29T23:01:49.740726Z"
        },
        "trusted": true,
        "id": "23iG94maU8rg"
      },
      "execution_count": 1,
      "outputs": []
    },
    {
      "cell_type": "code",
      "source": [
        "(x_train, y_train), (x_test, y_test) = tf.keras.datasets.mnist.load_data()"
      ],
      "metadata": {
        "execution": {
          "iopub.status.busy": "2023-11-29T22:59:49.035564Z",
          "iopub.execute_input": "2023-11-29T22:59:49.035965Z",
          "iopub.status.idle": "2023-11-29T22:59:49.354309Z",
          "shell.execute_reply.started": "2023-11-29T22:59:49.035936Z",
          "shell.execute_reply": "2023-11-29T22:59:49.353126Z"
        },
        "trusted": true,
        "colab": {
          "base_uri": "https://localhost:8080/"
        },
        "id": "tih3LRPNU8rj",
        "outputId": "f423ed85-43a6-4182-c34e-c466581292e8"
      },
      "execution_count": 2,
      "outputs": [
        {
          "output_type": "stream",
          "name": "stdout",
          "text": [
            "Downloading data from https://storage.googleapis.com/tensorflow/tf-keras-datasets/mnist.npz\n",
            "11490434/11490434 [==============================] - 0s 0us/step\n"
          ]
        }
      ]
    },
    {
      "cell_type": "code",
      "source": [
        "x_train = x_train.reshape((x_train.shape[0], 28, 28))\n",
        "x_test = x_test.reshape((x_test.shape[0], 28, 28))\n",
        "x_train = x_train.astype('float')\n",
        "x_test = x_test.astype('float')\n",
        "x_train /= 255\n",
        "x_test /= 255\n",
        "\n",
        "x_train = np.stack((x_train , )*3 , axis=-1)\n",
        "x_test = np.stack((x_test , )*3 , axis=-1)"
      ],
      "metadata": {
        "execution": {
          "iopub.status.busy": "2023-11-29T22:59:50.912855Z",
          "iopub.execute_input": "2023-11-29T22:59:50.913586Z",
          "iopub.status.idle": "2023-11-29T22:59:51.768793Z",
          "shell.execute_reply.started": "2023-11-29T22:59:50.913539Z",
          "shell.execute_reply": "2023-11-29T22:59:51.767727Z"
        },
        "trusted": true,
        "id": "TCWSWM7yU8rk"
      },
      "execution_count": 3,
      "outputs": []
    },
    {
      "cell_type": "code",
      "source": [
        "x_train.shape"
      ],
      "metadata": {
        "execution": {
          "iopub.status.busy": "2023-11-29T23:00:05.799830Z",
          "iopub.execute_input": "2023-11-29T23:00:05.800561Z",
          "iopub.status.idle": "2023-11-29T23:00:05.808141Z",
          "shell.execute_reply.started": "2023-11-29T23:00:05.800512Z",
          "shell.execute_reply": "2023-11-29T23:00:05.807103Z"
        },
        "trusted": true,
        "colab": {
          "base_uri": "https://localhost:8080/"
        },
        "id": "gtrrwqjSU8rk",
        "outputId": "c3ea39c0-55c1-41c6-f0a3-dbd3bc14b703"
      },
      "execution_count": 4,
      "outputs": [
        {
          "output_type": "execute_result",
          "data": {
            "text/plain": [
              "(60000, 28, 28, 3)"
            ]
          },
          "metadata": {},
          "execution_count": 4
        }
      ]
    },
    {
      "cell_type": "code",
      "source": [
        "base_model = ResNet50(weights='imagenet', include_top=False)\n",
        "base_model.trainable = False\n",
        "\n"
      ],
      "metadata": {
        "execution": {
          "iopub.status.busy": "2023-11-29T23:01:59.316317Z",
          "iopub.execute_input": "2023-11-29T23:01:59.316738Z",
          "iopub.status.idle": "2023-11-29T23:02:02.145121Z",
          "shell.execute_reply.started": "2023-11-29T23:01:59.316698Z",
          "shell.execute_reply": "2023-11-29T23:02:02.143728Z"
        },
        "trusted": true,
        "id": "fUx1eeyMU8rl"
      },
      "execution_count": 9,
      "outputs": []
    },
    {
      "cell_type": "code",
      "source": [
        "model = tfm.Sequential()\n",
        "\n",
        "model.add(base_model)\n",
        "\n",
        "model.add(tfl.GlobalAveragePooling2D())\n",
        "model.add(tfl.Dense(256, activation='relu'))\n",
        "model.add(tfl.Dense(10, activation='softmax'))"
      ],
      "metadata": {
        "execution": {
          "iopub.status.busy": "2023-11-29T23:02:06.817776Z",
          "iopub.execute_input": "2023-11-29T23:02:06.818190Z",
          "iopub.status.idle": "2023-11-29T23:02:07.515477Z",
          "shell.execute_reply.started": "2023-11-29T23:02:06.818156Z",
          "shell.execute_reply": "2023-11-29T23:02:07.514131Z"
        },
        "trusted": true,
        "id": "NMEreCfUU8rm"
      },
      "execution_count": 10,
      "outputs": []
    },
    {
      "cell_type": "code",
      "source": [
        "model.compile(optimizer='adam',\n",
        "              loss=tf.keras.losses.SparseCategoricalCrossentropy(),\n",
        "              metrics=['accuracy'])\n",
        "model.summary()"
      ],
      "metadata": {
        "execution": {
          "iopub.status.busy": "2023-11-29T23:02:13.346334Z",
          "iopub.execute_input": "2023-11-29T23:02:13.346773Z",
          "iopub.status.idle": "2023-11-29T23:02:13.367736Z",
          "shell.execute_reply.started": "2023-11-29T23:02:13.346737Z",
          "shell.execute_reply": "2023-11-29T23:02:13.366526Z"
        },
        "trusted": true,
        "colab": {
          "base_uri": "https://localhost:8080/"
        },
        "id": "5R5cy9hYU8rm",
        "outputId": "9fc30c00-47b8-4ff3-d002-fca6b0f8cd26"
      },
      "execution_count": 11,
      "outputs": [
        {
          "output_type": "stream",
          "name": "stdout",
          "text": [
            "Model: \"sequential_1\"\n",
            "_________________________________________________________________\n",
            " Layer (type)                Output Shape              Param #   \n",
            "=================================================================\n",
            " resnet50 (Functional)       (None, None, None, 2048   23587712  \n",
            "                             )                                   \n",
            "                                                                 \n",
            " global_average_pooling2d_1  (None, 2048)              0         \n",
            "  (GlobalAveragePooling2D)                                       \n",
            "                                                                 \n",
            " dense_2 (Dense)             (None, 256)               524544    \n",
            "                                                                 \n",
            " dense_3 (Dense)             (None, 10)                2570      \n",
            "                                                                 \n",
            "=================================================================\n",
            "Total params: 24114826 (91.99 MB)\n",
            "Trainable params: 527114 (2.01 MB)\n",
            "Non-trainable params: 23587712 (89.98 MB)\n",
            "_________________________________________________________________\n"
          ]
        }
      ]
    },
    {
      "cell_type": "code",
      "source": [
        "model.fit(x_train, y_train, epochs=10, validation_data=(x_test, y_test))"
      ],
      "metadata": {
        "execution": {
          "iopub.status.busy": "2023-11-29T23:02:15.228010Z",
          "iopub.execute_input": "2023-11-29T23:02:15.228461Z",
          "iopub.status.idle": "2023-11-29T23:02:59.571230Z",
          "shell.execute_reply.started": "2023-11-29T23:02:15.228426Z",
          "shell.execute_reply": "2023-11-29T23:02:59.569456Z"
        },
        "trusted": true,
        "colab": {
          "base_uri": "https://localhost:8080/"
        },
        "id": "ypHn87RRU8rm",
        "outputId": "475d648a-2169-4da4-ccff-0dfc8a017174"
      },
      "execution_count": 12,
      "outputs": [
        {
          "output_type": "stream",
          "name": "stdout",
          "text": [
            "Epoch 1/10\n",
            "1875/1875 [==============================] - 30s 14ms/step - loss: 0.5743 - accuracy: 0.8207 - val_loss: 0.3126 - val_accuracy: 0.9040\n",
            "Epoch 2/10\n",
            "1875/1875 [==============================] - 24s 13ms/step - loss: 0.3232 - accuracy: 0.8971 - val_loss: 0.2617 - val_accuracy: 0.9158\n",
            "Epoch 3/10\n",
            "1875/1875 [==============================] - 26s 14ms/step - loss: 0.2773 - accuracy: 0.9099 - val_loss: 0.2581 - val_accuracy: 0.9184\n",
            "Epoch 4/10\n",
            "1875/1875 [==============================] - 46s 25ms/step - loss: 0.2462 - accuracy: 0.9200 - val_loss: 0.2159 - val_accuracy: 0.9303\n",
            "Epoch 5/10\n",
            "1875/1875 [==============================] - 24s 13ms/step - loss: 0.2285 - accuracy: 0.9252 - val_loss: 0.2310 - val_accuracy: 0.9255\n",
            "Epoch 6/10\n",
            "1875/1875 [==============================] - 25s 13ms/step - loss: 0.2098 - accuracy: 0.9319 - val_loss: 0.1978 - val_accuracy: 0.9384\n",
            "Epoch 7/10\n",
            "1875/1875 [==============================] - 24s 13ms/step - loss: 0.2015 - accuracy: 0.9349 - val_loss: 0.1948 - val_accuracy: 0.9377\n",
            "Epoch 8/10\n",
            "1875/1875 [==============================] - 29s 15ms/step - loss: 0.1908 - accuracy: 0.9384 - val_loss: 0.1899 - val_accuracy: 0.9406\n",
            "Epoch 9/10\n",
            "1875/1875 [==============================] - 27s 14ms/step - loss: 0.1848 - accuracy: 0.9394 - val_loss: 0.1691 - val_accuracy: 0.9453\n",
            "Epoch 10/10\n",
            "1875/1875 [==============================] - 25s 13ms/step - loss: 0.1772 - accuracy: 0.9422 - val_loss: 0.1665 - val_accuracy: 0.9460\n"
          ]
        },
        {
          "output_type": "execute_result",
          "data": {
            "text/plain": [
              "<keras.src.callbacks.History at 0x7bba2a922f20>"
            ]
          },
          "metadata": {},
          "execution_count": 12
        }
      ]
    },
    {
      "cell_type": "code",
      "source": [
        "y_test_pred_res = np.argmax(model.predict(x_test) , axis=1)\n",
        "convmat_res = confusion_matrix(y_test , y_test_pred_res)\n",
        "sns.heatmap(convmat_res , annot=True , fmt='d',cmap = 'Greens')"
      ],
      "metadata": {
        "colab": {
          "base_uri": "https://localhost:8080/",
          "height": 465
        },
        "id": "ulpnzBe2VKxR",
        "outputId": "3a224f3c-785e-4656-aeaf-6309cd945dc0"
      },
      "execution_count": 13,
      "outputs": [
        {
          "output_type": "stream",
          "name": "stdout",
          "text": [
            "313/313 [==============================] - 4s 9ms/step\n"
          ]
        },
        {
          "output_type": "execute_result",
          "data": {
            "text/plain": [
              "<Axes: >"
            ]
          },
          "metadata": {},
          "execution_count": 13
        },
        {
          "output_type": "display_data",
          "data": {
            "text/plain": [
              "<Figure size 640x480 with 2 Axes>"
            ],
            "image/png": "[encoded data removed]"
          },
          "metadata": {}
        }
      ]
    },
    {
      "cell_type": "code",
      "source": [
        "print(classification_report(y_test , y_test_pred_res))\n"
      ],
      "metadata": {
        "execution": {
          "iopub.status.busy": "2023-11-29T22:42:55.580063Z",
          "iopub.execute_input": "2023-11-29T22:42:55.580507Z",
          "iopub.status.idle": "2023-11-29T22:42:58.667687Z",
          "shell.execute_reply.started": "2023-11-29T22:42:55.580477Z",
          "shell.execute_reply": "2023-11-29T22:42:58.665997Z"
        },
        "trusted": true,
        "colab": {
          "base_uri": "https://localhost:8080/"
        },
        "id": "x6yW7QQNU8rn",
        "outputId": "d2151f0d-3e6c-4fb5-a3b0-753c11d74698"
      },
      "execution_count": 14,
      "outputs": [
        {
          "output_type": "stream",
          "name": "stdout",
          "text": [
            "              precision    recall  f1-score   support\n",
            "\n",
            "           0       0.93      0.99      0.96       980\n",
            "           1       1.00      0.98      0.99      1135\n",
            "           2       0.95      0.95      0.95      1032\n",
            "           3       0.95      0.93      0.94      1010\n",
            "           4       0.89      0.99      0.94       982\n",
            "           5       0.95      0.91      0.93       892\n",
            "           6       0.97      0.97      0.97       958\n",
            "           7       0.97      0.94      0.95      1028\n",
            "           8       0.94      0.86      0.90       974\n",
            "           9       0.93      0.92      0.92      1009\n",
            "\n",
            "    accuracy                           0.95     10000\n",
            "   macro avg       0.95      0.95      0.95     10000\n",
            "weighted avg       0.95      0.95      0.95     10000\n",
            "\n"
          ]
        }
      ]
    },
    {
      "cell_type": "code",
      "source": [],
      "metadata": {
        "id": "wPgFbs0_U8rn"
      },
      "execution_count": null,
      "outputs": []
    }
  ]
}