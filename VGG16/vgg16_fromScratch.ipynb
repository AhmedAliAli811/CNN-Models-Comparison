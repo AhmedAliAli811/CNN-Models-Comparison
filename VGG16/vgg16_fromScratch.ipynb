{
 "metadata": {
  "kernelspec": {
   "display_name": "Python 3",
   "name": "python3"
  },
  "language_info": {
   "name": "python",
   "version": "3.10.12",
   "mimetype": "text/x-python",
   "codemirror_mode": {
    "name": "ipython",
    "version": 3
   },
   "pygments_lexer": "ipython3",
   "nbconvert_exporter": "python",
   "file_extension": ".py"
  },
  "kaggle": {
   "accelerator": "none",
   "dataSources": [],
   "dockerImageVersionId": 30587,
   "isInternetEnabled": true,
   "language": "python",
   "sourceType": "notebook",
   "isGpuEnabled": false
  },
  "colab": {
   "provenance": [],
   "gpuType": "T4"
  },
  "accelerator": "GPU"
 },
 "nbformat_minor": 0,
 "nbformat": 4,
 "cells": [
  {
   "cell_type": "code",
   "source": [
    "import numpy as np\n",
    "import pandas as pd\n",
    "\n",
    "import seaborn as sns\n",
    "import matplotlib.pyplot as plt\n",
    "\n",
    "from sklearn.metrics import confusion_matrix , classification_report\n",
    "\n",
    "import tensorflow as tf\n",
    "import tensorflow.keras.layers as tfl\n",
    "import tensorflow.keras.models as tfm"
   ],
   "metadata": {
    "execution": {
     "iopub.status.busy": "2023-11-29T15:58:22.908994Z",
     "iopub.execute_input": "2023-11-29T15:58:22.909707Z",
     "iopub.status.idle": "2023-11-29T15:58:28.135308Z",
     "shell.execute_reply.started": "2023-11-29T15:58:22.909656Z",
     "shell.execute_reply": "2023-11-29T15:58:28.133897Z"
    },
    "trusted": true,
    "id": "tSj1TSB4RqBq"
   },
   "execution_count": 6,
   "outputs": []
  },
  {
   "cell_type": "code",
   "source": [
    "(x_train, y_train), (x_test, y_test) = tf.keras.datasets.mnist.load_data()\n"
   ],
   "metadata": {
    "execution": {
     "iopub.status.busy": "2023-11-29T15:58:28.137940Z",
     "iopub.execute_input": "2023-11-29T15:58:28.139745Z",
     "iopub.status.idle": "2023-11-29T15:58:28.460112Z",
     "shell.execute_reply.started": "2023-11-29T15:58:28.139695Z",
     "shell.execute_reply": "2023-11-29T15:58:28.458795Z"
    },
    "trusted": true,
    "colab": {
     "base_uri": "https://localhost:8080/"
    },
    "id": "CjlqdfzLRqBu",
    "outputId": "53ea5f26-e85d-4c61-e1f1-01066a8f2c3e"
   },
   "execution_count": 7,
   "outputs": [
    {
     "output_type": "stream",
     "name": "stdout",
     "text": [
      "Downloading data from https://storage.googleapis.com/tensorflow/tf-keras-datasets/mnist.npz\n",
      "11490434/11490434 [==============================] - 0s 0us/step\n"
     ]
    }
   ]
  },
  {
   "cell_type": "code",
   "source": [
    "x_train = x_train.reshape(x_train.shape[0], 28, 28, 1)\n",
    "x_test = x_test.reshape(x_test.shape[0], 28, 28, 1)\n",
    "x_train = x_train.astype('float')\n",
    "x_test = x_test.astype('float')\n",
    "x_train /= 255\n",
    "x_test /= 255"
   ],
   "metadata": {
    "execution": {
     "iopub.status.busy": "2023-11-29T15:58:28.461785Z",
     "iopub.execute_input": "2023-11-29T15:58:28.462283Z",
     "iopub.status.idle": "2023-11-29T15:58:28.662026Z",
     "shell.execute_reply.started": "2023-11-29T15:58:28.462243Z",
     "shell.execute_reply": "2023-11-29T15:58:28.660953Z"
    },
    "trusted": true,
    "id": "Su3IbaL1RqBv"
   },
   "execution_count": 8,
   "outputs": []
  },
  {
   "cell_type": "code",
   "source": [
    "def VGG16 (input_shape , num_of_labels):\n",
    "    model = tfm.Sequential()\n",
    "\n",
    "    model.add(tfl.Conv2D(64, (3, 3), padding='same',activation='relu', input_shape=(28,28,1), strides = 1))\n",
    "    model.add(tfl.BatchNormalization())\n",
    "    model.add(tfl.Conv2D(64, (3, 3), padding='same',activation='relu' , strides = 1))\n",
    "    model.add(tfl.BatchNormalization())\n",
    "    model.add(tfl.MaxPool2D((2,2) , strides = (2, 2)))\n",
    "\n",
    "    model.add(tfl.Conv2D(128, (3, 3), padding='same',activation='relu', strides = 1))\n",
    "    model.add(tfl.BatchNormalization())\n",
    "    model.add(tfl.Conv2D(128, (3, 3), padding='same',activation='relu', strides = 1))\n",
    "    model.add(tfl.BatchNormalization())\n",
    "    model.add(tfl.MaxPool2D((2,2) , strides = (2, 2)))\n",
    "\n",
    "    model.add(tfl.Conv2D(256, (3, 3), padding='same',activation='relu', strides = 1))\n",
    "    model.add(tfl.BatchNormalization())\n",
    "    model.add(tfl.Conv2D(256, (3, 3), padding='same',activation='relu', strides = 1))\n",
    "    model.add(tfl.BatchNormalization())\n",
    "    model.add(tfl.Conv2D(256, (3, 3), padding='same',activation='relu', strides = 1))\n",
    "    model.add(tfl.BatchNormalization())\n",
    "    model.add(tfl.MaxPool2D((2,2) , strides = (2, 2)))\n",
    "\n",
    "    model.add(tfl.Conv2D(512, (3, 3), padding='same',activation='relu', strides = 1))\n",
    "    model.add(tfl.BatchNormalization())\n",
    "    model.add(tfl.Conv2D(512, (3, 3), padding='same',activation='relu', strides = 1))\n",
    "    model.add(tfl.BatchNormalization())\n",
    "    model.add(tfl.Conv2D(512, (3, 3), padding='same',activation='relu', strides = 1))\n",
    "    model.add(tfl.BatchNormalization())\n",
    "    model.add(tfl.MaxPool2D((2,2) , strides = (2, 2)))\n",
    "\n",
    "    model.add(tfl.Conv2D(512, (3, 3), padding='same',activation='relu', strides = 1))\n",
    "    model.add(tfl.BatchNormalization())\n",
    "    model.add(tfl.Conv2D(512, (3, 3), padding='same',activation='relu', strides = 1))\n",
    "    model.add(tfl.BatchNormalization())\n",
    "    model.add(tfl.Conv2D(512, (3, 3), padding='same',activation='relu', strides = 1))\n",
    "    model.add(tfl.BatchNormalization())\n",
    "    model.add(tfl.Flatten())\n",
    "\n",
    "    model.add(tfl.Dense(4096 , activation='relu'))\n",
    "    model.add(tfl.Dense(4096 , activation='relu'))\n",
    "\n",
    "    model.add(tfl.Dense(num_of_labels , activation='softmax'))\n",
    "\n",
    "    return model\n"
   ],
   "metadata": {
    "execution": {
     "iopub.status.busy": "2023-11-29T15:58:28.665138Z",
     "iopub.execute_input": "2023-11-29T15:58:28.665618Z",
     "iopub.status.idle": "2023-11-29T15:58:28.683973Z",
     "shell.execute_reply.started": "2023-11-29T15:58:28.665573Z",
     "shell.execute_reply": "2023-11-29T15:58:28.682702Z"
    },
    "trusted": true,
    "id": "isfJDxWVRqBw"
   },
   "execution_count": 9,
   "outputs": []
  },
  {
   "cell_type": "code",
   "source": [
    "VGG_model = VGG16(input_shape=x_train[0].shape , num_of_labels=len(np.unique(y_train)))\n",
    "VGG_model.compile(optimizer='adam',\n",
    "              loss=tf.keras.losses.SparseCategoricalCrossentropy(),\n",
    "              metrics=['accuracy'])\n",
    "VGG_model.summary()"
   ],
   "metadata": {
    "execution": {
     "iopub.status.busy": "2023-11-29T15:58:28.685901Z",
     "iopub.execute_input": "2023-11-29T15:58:28.686372Z",
     "iopub.status.idle": "2023-11-29T15:58:29.326307Z",
     "shell.execute_reply.started": "2023-11-29T15:58:28.686341Z",
     "shell.execute_reply": "2023-11-29T15:58:29.325154Z"
    },
    "trusted": true,
    "colab": {
     "base_uri": "https://localhost:8080/"
    },
    "id": "QfJQToNGRqBw",
    "outputId": "bccf976e-9b9c-46de-95ce-7930ec23053b"
   },
   "execution_count": 10,
   "outputs": [
    {
     "output_type": "stream",
     "name": "stdout",
     "text": [
      "Model: \"sequential\"\n",
      "_________________________________________________________________\n",
      " Layer (type)                Output Shape              Param #   \n",
      "=================================================================\n",
      " conv2d (Conv2D)             (None, 28, 28, 64)        640       \n",
      "                                                                 \n",
      " batch_normalization (Batch  (None, 28, 28, 64)        256       \n",
      " Normalization)                                                  \n",
      "                                                                 \n",
      " conv2d_1 (Conv2D)           (None, 28, 28, 64)        36928     \n",
      "                                                                 \n",
      " batch_normalization_1 (Bat  (None, 28, 28, 64)        256       \n",
      " chNormalization)                                                \n",
      "                                                                 \n",
      " max_pooling2d (MaxPooling2  (None, 14, 14, 64)        0         \n",
      " D)                                                              \n",
      "                                                                 \n",
      " conv2d_2 (Conv2D)           (None, 14, 14, 128)       73856     \n",
      "                                                                 \n",
      " batch_normalization_2 (Bat  (None, 14, 14, 128)       512       \n",
      " chNormalization)                                                \n",
      "                                                                 \n",
      " conv2d_3 (Conv2D)           (None, 14, 14, 128)       147584    \n",
      "                                                                 \n",
      " batch_normalization_3 (Bat  (None, 14, 14, 128)       512       \n",
      " chNormalization)                                                \n",
      "                                                                 \n",
      " max_pooling2d_1 (MaxPoolin  (None, 7, 7, 128)         0         \n",
      " g2D)                                                            \n",
      "                                                                 \n",
      " conv2d_4 (Conv2D)           (None, 7, 7, 256)         295168    \n",
      "                                                                 \n",
      " batch_normalization_4 (Bat  (None, 7, 7, 256)         1024      \n",
      " chNormalization)                                                \n",
      "                                                                 \n",
      " conv2d_5 (Conv2D)           (None, 7, 7, 256)         590080    \n",
      "                                                                 \n",
      " batch_normalization_5 (Bat  (None, 7, 7, 256)         1024      \n",
      " chNormalization)                                                \n",
      "                                                                 \n",
      " conv2d_6 (Conv2D)           (None, 7, 7, 256)         590080    \n",
      "                                                                 \n",
      " batch_normalization_6 (Bat  (None, 7, 7, 256)         1024      \n",
      " chNormalization)                                                \n",
      "                                                                 \n",
      " max_pooling2d_2 (MaxPoolin  (None, 3, 3, 256)         0         \n",
      " g2D)                                                            \n",
      "                                                                 \n",
      " conv2d_7 (Conv2D)           (None, 3, 3, 512)         1180160   \n",
      "                                                                 \n",
      " batch_normalization_7 (Bat  (None, 3, 3, 512)         2048      \n",
      " chNormalization)                                                \n",
      "                                                                 \n",
      " conv2d_8 (Conv2D)           (None, 3, 3, 512)         2359808   \n",
      "                                                                 \n",
      " batch_normalization_8 (Bat  (None, 3, 3, 512)         2048      \n",
      " chNormalization)                                                \n",
      "                                                                 \n",
      " conv2d_9 (Conv2D)           (None, 3, 3, 512)         2359808   \n",
      "                                                                 \n",
      " batch_normalization_9 (Bat  (None, 3, 3, 512)         2048      \n",
      " chNormalization)                                                \n",
      "                                                                 \n",
      " max_pooling2d_3 (MaxPoolin  (None, 1, 1, 512)         0         \n",
      " g2D)                                                            \n",
      "                                                                 \n",
      " conv2d_10 (Conv2D)          (None, 1, 1, 512)         2359808   \n",
      "                                                                 \n",
      " batch_normalization_10 (Ba  (None, 1, 1, 512)         2048      \n",
      " tchNormalization)                                               \n",
      "                                                                 \n",
      " conv2d_11 (Conv2D)          (None, 1, 1, 512)         2359808   \n",
      "                                                                 \n",
      " batch_normalization_11 (Ba  (None, 1, 1, 512)         2048      \n",
      " tchNormalization)                                               \n",
      "                                                                 \n",
      " conv2d_12 (Conv2D)          (None, 1, 1, 512)         2359808   \n",
      "                                                                 \n",
      " batch_normalization_12 (Ba  (None, 1, 1, 512)         2048      \n",
      " tchNormalization)                                               \n",
      "                                                                 \n",
      " flatten (Flatten)           (None, 512)               0         \n",
      "                                                                 \n",
      " dense (Dense)               (None, 4096)              2101248   \n",
      "                                                                 \n",
      " dense_1 (Dense)             (None, 4096)              16781312  \n",
      "                                                                 \n",
      " dense_2 (Dense)             (None, 10)                40970     \n",
      "                                                                 \n",
      "=================================================================\n",
      "Total params: 33653962 (128.38 MB)\n",
      "Trainable params: 33645514 (128.35 MB)\n",
      "Non-trainable params: 8448 (33.00 KB)\n",
      "_________________________________________________________________\n"
     ]
    }
   ]
  },
  {
   "cell_type": "code",
   "source": [
    "VGG_model.fit(x_train, y_train, epochs=10   , validation_data=(x_test, y_test))"
   ],
   "metadata": {
    "execution": {
     "iopub.status.busy": "2023-11-29T15:58:29.328217Z",
     "iopub.execute_input": "2023-11-29T15:58:29.328544Z"
    },
    "trusted": true,
    "colab": {
     "base_uri": "https://localhost:8080/"
    },
    "id": "Ji-nOHrcRqBy",
    "outputId": "d5f47215-1670-4665-f85d-ac5e6b22432b"
   },
   "execution_count": 11,
   "outputs": [
    {
     "output_type": "stream",
     "name": "stdout",
     "text": [
      "Epoch 1/10\n",
      "1875/1875 [==============================] - 86s 37ms/step - loss: 0.2971 - accuracy: 0.9315 - val_loss: 0.1559 - val_accuracy: 0.9792\n",
      "Epoch 2/10\n",
      "1875/1875 [==============================] - 70s 37ms/step - loss: 0.2429 - accuracy: 0.9531 - val_loss: 0.0451 - val_accuracy: 0.9899\n",
      "Epoch 3/10\n",
      "1875/1875 [==============================] - 70s 37ms/step - loss: 0.1210 - accuracy: 0.9744 - val_loss: 0.0642 - val_accuracy: 0.9865\n",
      "Epoch 4/10\n",
      "1875/1875 [==============================] - 71s 38ms/step - loss: 0.0781 - accuracy: 0.9836 - val_loss: 0.0420 - val_accuracy: 0.9891\n",
      "Epoch 5/10\n",
      "1875/1875 [==============================] - 69s 37ms/step - loss: 0.0797 - accuracy: 0.9833 - val_loss: 0.0484 - val_accuracy: 0.9899\n",
      "Epoch 6/10\n",
      "1875/1875 [==============================] - 67s 36ms/step - loss: 0.0582 - accuracy: 0.9876 - val_loss: 0.0414 - val_accuracy: 0.9907\n",
      "Epoch 7/10\n",
      "1875/1875 [==============================] - 67s 36ms/step - loss: 0.0468 - accuracy: 0.9904 - val_loss: 0.0413 - val_accuracy: 0.9915\n",
      "Epoch 8/10\n",
      "1875/1875 [==============================] - 67s 36ms/step - loss: 0.0458 - accuracy: 0.9905 - val_loss: 0.0379 - val_accuracy: 0.9923\n",
      "Epoch 9/10\n",
      "1875/1875 [==============================] - 70s 37ms/step - loss: 0.0419 - accuracy: 0.9915 - val_loss: 0.0350 - val_accuracy: 0.9922\n",
      "Epoch 10/10\n",
      "1875/1875 [==============================] - 69s 37ms/step - loss: 0.0360 - accuracy: 0.9929 - val_loss: 0.0363 - val_accuracy: 0.9931\n"
     ]
    },
    {
     "output_type": "execute_result",
     "data": {
      "text/plain": [
       "<keras.src.callbacks.History at 0x7880196ea6b0>"
      ]
     },
     "metadata": {},
     "execution_count": 11
    }
   ]
  },
  {
   "cell_type": "code",
   "source": [
    "y_test_pred_vgg = np.argmax(VGG_model.predict(x_test) , axis=1)\n",
    "convmat_vgg = confusion_matrix(y_test , y_test_pred_vgg)\n",
    "sns.heatmap(convmat_vgg , annot=True , fmt='d',cmap = 'Greens')"
   ],
   "metadata": {
    "trusted": true,
    "colab": {
     "base_uri": "https://localhost:8080/",
     "height": 465
    },
    "id": "hzosoe1NRqBy",
    "outputId": "0ec106f5-e501-4996-aa51-cb8da6a45896"
   },
   "execution_count": 12,
   "outputs": [
    {
     "output_type": "stream",
     "name": "stdout",
     "text": [
      "313/313 [==============================] - 3s 8ms/step\n"
     ]
    },
    {
     "output_type": "execute_result",
     "data": {
      "text/plain": [
       "<Axes: >"
      ]
     },
     "metadata": {},
     "execution_count": 12
    },
    {
     "output_type": "display_data",
     "data": {
      "text/plain": [
       "<Figure size 640x480 with 2 Axes>"
      ],
      "image/png": "[encoded data removed]"
     },
     "metadata": {}
    }
   ]
  },
  {
   "cell_type": "code",
   "source": [
    "print(classification_report(y_test , y_test_pred_vgg))\n"
   ],
   "metadata": {
    "trusted": true,
    "colab": {
     "base_uri": "https://localhost:8080/"
    },
    "id": "_G4fs55JRqBz",
    "outputId": "cd6078d2-b6d9-4039-e48d-83c35b866b80"
   },
   "execution_count": 13,
   "outputs": [
    {
     "output_type": "stream",
     "name": "stdout",
     "text": [
      "              precision    recall  f1-score   support\n",
      "\n",
      "           0       1.00      0.99      1.00       980\n",
      "           1       0.99      1.00      1.00      1135\n",
      "           2       1.00      0.99      0.99      1032\n",
      "           3       1.00      0.99      0.99      1010\n",
      "           4       1.00      0.99      0.99       982\n",
      "           5       0.97      1.00      0.98       892\n",
      "           6       0.99      0.99      0.99       958\n",
      "           7       0.99      0.99      0.99      1028\n",
      "           8       1.00      1.00      1.00       974\n",
      "           9       0.99      0.99      0.99      1009\n",
      "\n",
      "    accuracy                           0.99     10000\n",
      "   macro avg       0.99      0.99      0.99     10000\n",
      "weighted avg       0.99      0.99      0.99     10000\n"
     ]
    }
   ]
  },
  {
   "cell_type": "code",
   "source": [],
   "metadata": {
    "id": "muVxPO4RRqBz"
   },
   "execution_count": null,
   "outputs": []
  },
  {
   "cell_type": "code",
   "source": [],
   "metadata": {
    "id": "tt3zDf-LRqBz"
   },
   "execution_count": null,
   "outputs": []
  },
  {
   "cell_type": "code",
   "source": [],
   "metadata": {
    "id": "80Kvg5SiRqB0"
   },
   "execution_count": null,
   "outputs": []
  }
 ]
}
