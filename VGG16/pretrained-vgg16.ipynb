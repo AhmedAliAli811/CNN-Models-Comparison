{
  "metadata": {
    "kernelspec": {
      "display_name": "Python 3",
      "name": "python3"
    },
    "language_info": {
      "name": "python",
      "version": "3.10.12",
      "mimetype": "text/x-python",
      "codemirror_mode": {
        "name": "ipython",
        "version": 3
      },
      "pygments_lexer": "ipython3",
      "nbconvert_exporter": "python",
      "file_extension": ".py"
    },
    "kaggle": {
      "accelerator": "none",
      "dataSources": [],
      "dockerImageVersionId": 30587,
      "isInternetEnabled": true,
      "language": "python",
      "sourceType": "notebook",
      "isGpuEnabled": false
    },
    "colab": {
      "provenance": [],
      "gpuType": "T4"
    },
    "accelerator": "GPU"
  },
  "nbformat_minor": 0,
  "nbformat": 4,
  "cells": [
    {
      "cell_type": "code",
      "source": [
        "import numpy as np\n",
        "import pandas as pd\n",
        "\n",
        "import seaborn as sns\n",
        "import matplotlib.pyplot as plt\n",
        "\n",
        "from sklearn.metrics import confusion_matrix , classification_report\n",
        "\n",
        "import tensorflow as tf\n",
        "import tensorflow.keras.layers as tfl\n",
        "import tensorflow.keras.models as tfm\n",
        "from tensorflow.keras.applications.vgg16 import VGG16\n"
      ],
      "metadata": {
        "execution": {
          "iopub.status.busy": "2023-11-29T23:29:35.052721Z",
          "iopub.execute_input": "2023-11-29T23:29:35.053618Z",
          "iopub.status.idle": "2023-11-29T23:29:35.060213Z",
          "shell.execute_reply.started": "2023-11-29T23:29:35.053575Z",
          "shell.execute_reply": "2023-11-29T23:29:35.058884Z"
        },
        "trusted": true,
        "id": "vbnmWCIWb8ll"
      },
      "execution_count": 1,
      "outputs": []
    },
    {
      "cell_type": "code",
      "source": [
        "(x_train, y_train), (x_test, y_test) = tf.keras.datasets.mnist.load_data()"
      ],
      "metadata": {
        "execution": {
          "iopub.status.busy": "2023-11-29T23:29:52.900133Z",
          "iopub.execute_input": "2023-11-29T23:29:52.900594Z",
          "iopub.status.idle": "2023-11-29T23:29:54.708429Z",
          "shell.execute_reply.started": "2023-11-29T23:29:52.900559Z",
          "shell.execute_reply": "2023-11-29T23:29:54.706680Z"
        },
        "trusted": true,
        "colab": {
          "base_uri": "https://localhost:8080/"
        },
        "id": "RNfs4Wmib8lp",
        "outputId": "dbb0975c-6ac4-40a9-bf08-1c461ecc1419"
      },
      "execution_count": 2,
      "outputs": [
        {
          "output_type": "stream",
          "name": "stdout",
          "text": [
            "Downloading data from https://storage.googleapis.com/tensorflow/tf-keras-datasets/mnist.npz\n",
            "11490434/11490434 [==============================] - 2s 0us/step\n"
          ]
        }
      ]
    },
    {
      "cell_type": "code",
      "source": [
        "x_train = x_train.reshape((x_train.shape[0], 28, 28))\n",
        "x_test = x_test.reshape((x_test.shape[0], 28, 28))\n",
        "x_train = x_train.astype('float')\n",
        "x_test = x_test.astype('float')\n",
        "x_train /= 255\n",
        "x_test /= 255\n",
        "\n",
        "x_train = np.stack((x_train , )*3 , axis=-1)\n",
        "x_test = np.stack((x_test , )*3 , axis=-1)"
      ],
      "metadata": {
        "execution": {
          "iopub.status.busy": "2023-11-29T23:30:07.691822Z",
          "iopub.execute_input": "2023-11-29T23:30:07.692393Z",
          "iopub.status.idle": "2023-11-29T23:30:08.947496Z",
          "shell.execute_reply.started": "2023-11-29T23:30:07.692348Z",
          "shell.execute_reply": "2023-11-29T23:30:08.946136Z"
        },
        "trusted": true,
        "id": "SbQKI3Rqb8lq"
      },
      "execution_count": 3,
      "outputs": []
    },
    {
      "cell_type": "code",
      "source": [
        "base_model = VGG16(weights='imagenet', include_top=False)\n",
        "base_model.trainable = False\n",
        "\n"
      ],
      "metadata": {
        "execution": {
          "iopub.status.busy": "2023-11-29T23:30:31.586459Z",
          "iopub.execute_input": "2023-11-29T23:30:31.586929Z",
          "iopub.status.idle": "2023-11-29T23:30:35.549560Z",
          "shell.execute_reply.started": "2023-11-29T23:30:31.586897Z",
          "shell.execute_reply": "2023-11-29T23:30:35.548479Z"
        },
        "trusted": true,
        "colab": {
          "base_uri": "https://localhost:8080/"
        },
        "id": "2DWJB35kb8lq",
        "outputId": "418faa12-15e2-445f-ded4-7ff0739d947b"
      },
      "execution_count": 4,
      "outputs": [
        {
          "output_type": "stream",
          "name": "stdout",
          "text": [
            "Downloading data from https://storage.googleapis.com/tensorflow/keras-applications/vgg16/vgg16_weights_tf_dim_ordering_tf_kernels_notop.h5\n",
            "58889256/58889256 [==============================] - 4s 0us/step\n"
          ]
        }
      ]
    },
    {
      "cell_type": "code",
      "source": [
        "model = tfm.Sequential()\n",
        "for layer in base_model.layers[:-6]:\n",
        "    model.add(layer)\n",
        "\n",
        "model.add(tfl.GlobalAveragePooling2D())\n",
        "model.add(tfl.Dense(256, activation='relu'))\n",
        "model.add(tfl.Dense(10, activation='softmax'))"
      ],
      "metadata": {
        "execution": {
          "iopub.status.busy": "2023-11-29T23:33:54.386214Z",
          "iopub.execute_input": "2023-11-29T23:33:54.386683Z",
          "iopub.status.idle": "2023-11-29T23:33:54.529722Z",
          "shell.execute_reply.started": "2023-11-29T23:33:54.386650Z",
          "shell.execute_reply": "2023-11-29T23:33:54.528417Z"
        },
        "trusted": true,
        "id": "P0tqSj3qb8lq"
      },
      "execution_count": 5,
      "outputs": []
    },
    {
      "cell_type": "code",
      "source": [
        "model.compile(optimizer='adam',\n",
        "              loss=tf.keras.losses.SparseCategoricalCrossentropy(),\n",
        "              metrics=['accuracy'])\n",
        "model.summary()"
      ],
      "metadata": {
        "execution": {
          "iopub.status.busy": "2023-11-29T23:33:55.742475Z",
          "iopub.execute_input": "2023-11-29T23:33:55.742977Z",
          "iopub.status.idle": "2023-11-29T23:33:55.815225Z",
          "shell.execute_reply.started": "2023-11-29T23:33:55.742939Z",
          "shell.execute_reply": "2023-11-29T23:33:55.813892Z"
        },
        "trusted": true,
        "colab": {
          "base_uri": "https://localhost:8080/"
        },
        "id": "m5Eb1k_7b8lr",
        "outputId": "6fb3db06-71b3-4a87-f382-dc9e67febabd"
      },
      "execution_count": 6,
      "outputs": [
        {
          "output_type": "stream",
          "name": "stdout",
          "text": [
            "Model: \"sequential\"\n",
            "_________________________________________________________________\n",
            " Layer (type)                Output Shape              Param #   \n",
            "=================================================================\n",
            " block1_conv1 (Conv2D)       (None, None, None, 64)    1792      \n",
            "                                                                 \n",
            " block1_conv2 (Conv2D)       (None, None, None, 64)    36928     \n",
            "                                                                 \n",
            " block1_pool (MaxPooling2D)  (None, None, None, 64)    0         \n",
            "                                                                 \n",
            " block2_conv1 (Conv2D)       (None, None, None, 128)   73856     \n",
            "                                                                 \n",
            " block2_conv2 (Conv2D)       (None, None, None, 128)   147584    \n",
            "                                                                 \n",
            " block2_pool (MaxPooling2D)  (None, None, None, 128)   0         \n",
            "                                                                 \n",
            " block3_conv1 (Conv2D)       (None, None, None, 256)   295168    \n",
            "                                                                 \n",
            " block3_conv2 (Conv2D)       (None, None, None, 256)   590080    \n",
            "                                                                 \n",
            " block3_conv3 (Conv2D)       (None, None, None, 256)   590080    \n",
            "                                                                 \n",
            " block3_pool (MaxPooling2D)  (None, None, None, 256)   0         \n",
            "                                                                 \n",
            " block4_conv1 (Conv2D)       (None, None, None, 512)   1180160   \n",
            "                                                                 \n",
            " block4_conv2 (Conv2D)       (None, None, None, 512)   2359808   \n",
            "                                                                 \n",
            " global_average_pooling2d (  (None, 512)               0         \n",
            " GlobalAveragePooling2D)                                         \n",
            "                                                                 \n",
            " dense (Dense)               (None, 256)               131328    \n",
            "                                                                 \n",
            " dense_1 (Dense)             (None, 10)                2570      \n",
            "                                                                 \n",
            "=================================================================\n",
            "Total params: 5409354 (20.64 MB)\n",
            "Trainable params: 133898 (523.04 KB)\n",
            "Non-trainable params: 5275456 (20.12 MB)\n",
            "_________________________________________________________________\n"
          ]
        }
      ]
    },
    {
      "cell_type": "code",
      "source": [
        "\n",
        "model.fit(x_train, y_train, epochs=10, validation_data=(x_test, y_test))"
      ],
      "metadata": {
        "execution": {
          "iopub.status.busy": "2023-11-29T23:34:00.008730Z",
          "iopub.execute_input": "2023-11-29T23:34:00.009204Z",
          "iopub.status.idle": "2023-11-29T23:34:10.000605Z",
          "shell.execute_reply.started": "2023-11-29T23:34:00.009168Z",
          "shell.execute_reply": "2023-11-29T23:34:09.999025Z"
        },
        "trusted": true,
        "colab": {
          "base_uri": "https://localhost:8080/"
        },
        "id": "IUnXynP2b8lr",
        "outputId": "c15d8834-1fb5-4a30-82b3-7647c752fd63"
      },
      "execution_count": 7,
      "outputs": [
        {
          "output_type": "stream",
          "name": "stdout",
          "text": [
            "Epoch 1/10\n",
            "1875/1875 [==============================] - 21s 6ms/step - loss: 0.1373 - accuracy: 0.9585 - val_loss: 0.0697 - val_accuracy: 0.9763\n",
            "Epoch 2/10\n",
            "1875/1875 [==============================] - 12s 7ms/step - loss: 0.0712 - accuracy: 0.9778 - val_loss: 0.0613 - val_accuracy: 0.9818\n",
            "Epoch 3/10\n",
            "1875/1875 [==============================] - 12s 6ms/step - loss: 0.0622 - accuracy: 0.9804 - val_loss: 0.0452 - val_accuracy: 0.9853\n",
            "Epoch 4/10\n",
            "1875/1875 [==============================] - 12s 7ms/step - loss: 0.0544 - accuracy: 0.9832 - val_loss: 0.0756 - val_accuracy: 0.9800\n",
            "Epoch 5/10\n",
            "1875/1875 [==============================] - 11s 6ms/step - loss: 0.0482 - accuracy: 0.9846 - val_loss: 0.0460 - val_accuracy: 0.9860\n",
            "Epoch 6/10\n",
            "1875/1875 [==============================] - 13s 7ms/step - loss: 0.0457 - accuracy: 0.9852 - val_loss: 0.0463 - val_accuracy: 0.9850\n",
            "Epoch 7/10\n",
            "1875/1875 [==============================] - 12s 6ms/step - loss: 0.0401 - accuracy: 0.9870 - val_loss: 0.0346 - val_accuracy: 0.9888\n",
            "Epoch 8/10\n",
            "1875/1875 [==============================] - 12s 6ms/step - loss: 0.0382 - accuracy: 0.9875 - val_loss: 0.0421 - val_accuracy: 0.9874\n",
            "Epoch 9/10\n",
            "1875/1875 [==============================] - 12s 6ms/step - loss: 0.0352 - accuracy: 0.9884 - val_loss: 0.0318 - val_accuracy: 0.9901\n",
            "Epoch 10/10\n",
            "1875/1875 [==============================] - 12s 7ms/step - loss: 0.0356 - accuracy: 0.9887 - val_loss: 0.0397 - val_accuracy: 0.9866\n"
          ]
        },
        {
          "output_type": "execute_result",
          "data": {
            "text/plain": [
              "<keras.src.callbacks.History at 0x7938404f3c70>"
            ]
          },
          "metadata": {},
          "execution_count": 7
        }
      ]
    },
    {
      "cell_type": "code",
      "source": [
        "y_test_pred_res = np.argmax(model.predict(x_test) , axis=1)\n",
        "convmat_res = confusion_matrix(y_test , y_test_pred_res)\n",
        "sns.heatmap(convmat_res , annot=True , fmt='d',cmap = 'Greens')"
      ],
      "metadata": {
        "colab": {
          "base_uri": "https://localhost:8080/",
          "height": 465
        },
        "id": "udXABaqob8ls",
        "outputId": "c4cfc40a-9cfb-43e8-f7fc-42e20d40677b"
      },
      "execution_count": 12,
      "outputs": [
        {
          "output_type": "stream",
          "name": "stdout",
          "text": [
            "313/313 [==============================] - 1s 4ms/step\n"
          ]
        },
        {
          "output_type": "execute_result",
          "data": {
            "text/plain": [
              "<Axes: >"
            ]
          },
          "metadata": {},
          "execution_count": 12
        },
        {
          "output_type": "display_data",
          "data": {
            "text/plain": [
              "<Figure size 640x480 with 2 Axes>"
            ],
            "image/png": "[encoded data removed]"
          },
          "metadata": {}
        }
      ]
    },
    {
      "cell_type": "code",
      "source": [
        "print(classification_report(y_test , y_test_pred_res))\n"
      ],
      "metadata": {
        "colab": {
          "base_uri": "https://localhost:8080/"
        },
        "id": "ZFjqhBgcdUEY",
        "outputId": "61c757a5-9de4-4425-a031-1bb048c18756"
      },
      "execution_count": 13,
      "outputs": [
        {
          "output_type": "stream",
          "name": "stdout",
          "text": [
            "              precision    recall  f1-score   support\n",
            "\n",
            "           0       1.00      0.99      0.99       980\n",
            "           1       1.00      0.99      0.99      1135\n",
            "           2       0.98      0.99      0.98      1032\n",
            "           3       0.99      0.99      0.99      1010\n",
            "           4       0.99      0.99      0.99       982\n",
            "           5       0.97      0.99      0.98       892\n",
            "           6       0.98      0.99      0.99       958\n",
            "           7       0.98      0.99      0.99      1028\n",
            "           8       0.97      0.99      0.98       974\n",
            "           9       1.00      0.95      0.98      1009\n",
            "\n",
            "    accuracy                           0.99     10000\n",
            "   macro avg       0.99      0.99      0.99     10000\n",
            "weighted avg       0.99      0.99      0.99     10000\n",
            "\n"
          ]
        }
      ]
    },
    {
      "cell_type": "code",
      "source": [],
      "metadata": {
        "id": "gERXqhTzdjhS"
      },
      "execution_count": null,
      "outputs": []
    }
  ]
}